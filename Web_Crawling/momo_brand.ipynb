{
 "cells": [
  {
   "cell_type": "markdown",
   "metadata": {},
   "source": [
    "# Momo brand web crawler\n",
    "Author: Meng-Chieh, Liu  \n",
    "Date: 2022/5/28"
   ]
  },
  {
   "cell_type": "code",
   "execution_count": 1,
   "metadata": {},
   "outputs": [],
   "source": [
    "from bs4 import BeautifulSoup\n",
    "import requests as rq\n",
    "import time"
   ]
  },
  {
   "cell_type": "code",
   "execution_count": 2,
   "metadata": {},
   "outputs": [],
   "source": [
    "def get_brand_name(keyword):\n",
    "\n",
    "    headers = {'User-Agent': 'Mozilla/5.0 (Windows NT 10.0; Win64; x64) AppleWebKit/537.36 (KHTML, like Gecko) Chrome/81.0.4044.138 Safari/537.36'}\n",
    "    try:\n",
    "        url = 'https://m.momoshop.com.tw/search.momo?searchKeyword={}&couponSeq=&cpName=&searchType=1&cateLevel=-1&cateCode=-1&ent=k&_imgSH=fourCardStyle'.format(keyword)\n",
    "        response = rq.get(url, headers=headers)\n",
    "        if response.status_code == 200:\n",
    "            soup = BeautifulSoup(response.text, features=\"html.parser\")\n",
    "            table =  soup.find_all('li' ,attrs={\"class\":\"goodsItemLi\" })[0]\n",
    "            products = table.find_all(\"a\")\n",
    "            for product in products:\n",
    "                try:\n",
    "                  href = product.get(\"href\")\n",
    "                  if \"http\" not in href:\n",
    "                      in_url  = 'https://m.momoshop.com.tw'+href\n",
    "                      response = rq.get(in_url, headers=headers)\n",
    "                      if response.status_code == 200:\n",
    "                          soup = BeautifulSoup(response.text, features=\"html.parser\")\n",
    "                          brand_name = soup.find_all('a' ,attrs={\"class\":\"brandNameTxt\" })[0]\n",
    "                          return brand_name.get_text()\n",
    "                except:\n",
    "                    pass\n",
    "                time.sleep(0.1)\n",
    "        return None\n",
    "    except:\n",
    "        return None"
   ]
  },
  {
   "cell_type": "code",
   "execution_count": 3,
   "metadata": {},
   "outputs": [],
   "source": [
    "import pandas as pd\n",
    "from tqdm import tqdm"
   ]
  },
  {
   "cell_type": "code",
   "execution_count": 5,
   "metadata": {},
   "outputs": [
    {
     "name": "stderr",
     "output_type": "stream",
     "text": [
      "100%|██████████| 10997/10997 [14:31:34<00:00,  4.76s/it]  \n"
     ]
    }
   ],
   "source": [
    "other = pd.read_csv(\"C:/Users/Meng-Chieh/Documents/GitHub/maboo/Brand/BCE/3_result/other_0.85.csv\", encoding=\"utf-8\", index_col=\"Unnamed: 0\")\n",
    "other[\"momo\"] = None\n",
    "for i in tqdm(other.index):\n",
    "    other[\"momo\"][i] = get_brand_name(other[\"name\"][i])\n",
    "    time.sleep(0.3)\n",
    "\n",
    "other.to_csv(\"C:/Users/Meng-Chieh/Documents/GitHub/maboo/Brand/BCE/3_result/other_momo.csv\", encoding=\"utf-8\")"
   ]
  },
  {
   "cell_type": "code",
   "execution_count": 9,
   "metadata": {},
   "outputs": [
    {
     "data": {
      "text/html": [
       "<div>\n",
       "<style scoped>\n",
       "    .dataframe tbody tr th:only-of-type {\n",
       "        vertical-align: middle;\n",
       "    }\n",
       "\n",
       "    .dataframe tbody tr th {\n",
       "        vertical-align: top;\n",
       "    }\n",
       "\n",
       "    .dataframe thead th {\n",
       "        text-align: right;\n",
       "    }\n",
       "</style>\n",
       "<table border=\"1\" class=\"dataframe\">\n",
       "  <thead>\n",
       "    <tr style=\"text-align: right;\">\n",
       "      <th></th>\n",
       "      <th>name</th>\n",
       "      <th>brand</th>\n",
       "      <th>momo</th>\n",
       "    </tr>\n",
       "  </thead>\n",
       "  <tbody>\n",
       "    <tr>\n",
       "      <th>12</th>\n",
       "      <td>0772163285一度贊剝皮辣椒雞肉麵</td>\n",
       "      <td>Other</td>\n",
       "      <td>維力</td>\n",
       "    </tr>\n",
       "    <tr>\n",
       "      <th>15</th>\n",
       "      <td>歐規床包專區床包長度200cm60支精梳棉無印良品ikea尺寸多款可選100精梳棉台灣製造</td>\n",
       "      <td>Other</td>\n",
       "      <td>None</td>\n",
       "    </tr>\n",
       "    <tr>\n",
       "      <th>23</th>\n",
       "      <td>snapware康寧密扣全新升級圓形寶寶用玻璃保鮮盒150ml3入裝</td>\n",
       "      <td>Other</td>\n",
       "      <td>CorelleBrands 康寧餐具</td>\n",
       "    </tr>\n",
       "    <tr>\n",
       "      <th>25</th>\n",
       "      <td>fbo維e舒緩面膜4</td>\n",
       "      <td>Other</td>\n",
       "      <td>Neogence 霓淨思</td>\n",
       "    </tr>\n",
       "    <tr>\n",
       "      <th>29</th>\n",
       "      <td>狗狗這樣吃不生病良心獸醫教你46道超簡單的手作健康狗料理從營養補充調理體質到對症食療一本搞定</td>\n",
       "      <td>Other</td>\n",
       "      <td>蘋果屋</td>\n",
       "    </tr>\n",
       "    <tr>\n",
       "      <th>...</th>\n",
       "      <td>...</td>\n",
       "      <td>...</td>\n",
       "      <td>...</td>\n",
       "    </tr>\n",
       "    <tr>\n",
       "      <th>97135</th>\n",
       "      <td>yadah綠茶純淨潔膚卸妝膏100ml卸妝兼去角質回購率超高韓國卸妝膏溫和不緊繃短效特賣</td>\n",
       "      <td>Other</td>\n",
       "      <td>None</td>\n",
       "    </tr>\n",
       "    <tr>\n",
       "      <th>97138</th>\n",
       "      <td>毛寶制臭極淨pm25洗衣精補充包2000gx3入</td>\n",
       "      <td>Other</td>\n",
       "      <td>毛寶</td>\n",
       "    </tr>\n",
       "    <tr>\n",
       "      <th>97142</th>\n",
       "      <td>ysl極效活萃夜光仙人掌超級精華30ml</td>\n",
       "      <td>Other</td>\n",
       "      <td>YSL</td>\n",
       "    </tr>\n",
       "    <tr>\n",
       "      <th>97151</th>\n",
       "      <td>旺旺生活八犬8dogs原町燒肉原町台灣天然手作寵物零食狗零食台灣本產手工肉片狗狗肉條肉絲</td>\n",
       "      <td>Other</td>\n",
       "      <td>None</td>\n",
       "    </tr>\n",
       "    <tr>\n",
       "      <th>97157</th>\n",
       "      <td>杜蕾斯活力裝衛生套個盒</td>\n",
       "      <td>Other</td>\n",
       "      <td>Durex 杜蕾斯</td>\n",
       "    </tr>\n",
       "  </tbody>\n",
       "</table>\n",
       "<p>10997 rows × 3 columns</p>\n",
       "</div>"
      ],
      "text/plain": [
       "                                                 name  brand  \\\n",
       "12                               0772163285一度贊剝皮辣椒雞肉麵  Other   \n",
       "15      歐規床包專區床包長度200cm60支精梳棉無印良品ikea尺寸多款可選100精梳棉台灣製造  Other   \n",
       "23                 snapware康寧密扣全新升級圓形寶寶用玻璃保鮮盒150ml3入裝  Other   \n",
       "25                                         fbo維e舒緩面膜4  Other   \n",
       "29     狗狗這樣吃不生病良心獸醫教你46道超簡單的手作健康狗料理從營養補充調理體質到對症食療一本搞定  Other   \n",
       "...                                               ...    ...   \n",
       "97135    yadah綠茶純淨潔膚卸妝膏100ml卸妝兼去角質回購率超高韓國卸妝膏溫和不緊繃短效特賣  Other   \n",
       "97138                        毛寶制臭極淨pm25洗衣精補充包2000gx3入  Other   \n",
       "97142                            ysl極效活萃夜光仙人掌超級精華30ml  Other   \n",
       "97151    旺旺生活八犬8dogs原町燒肉原町台灣天然手作寵物零食狗零食台灣本產手工肉片狗狗肉條肉絲  Other   \n",
       "97157                                     杜蕾斯活力裝衛生套個盒  Other   \n",
       "\n",
       "                     momo  \n",
       "12                     維力  \n",
       "15                   None  \n",
       "23     CorelleBrands 康寧餐具  \n",
       "25           Neogence 霓淨思  \n",
       "29                    蘋果屋  \n",
       "...                   ...  \n",
       "97135                None  \n",
       "97138                  毛寶  \n",
       "97142                 YSL  \n",
       "97151                None  \n",
       "97157           Durex 杜蕾斯  \n",
       "\n",
       "[10997 rows x 3 columns]"
      ]
     },
     "execution_count": 9,
     "metadata": {},
     "output_type": "execute_result"
    }
   ],
   "source": [
    "other"
   ]
  },
  {
   "cell_type": "code",
   "execution_count": 12,
   "metadata": {},
   "outputs": [],
   "source": [
    "other2 = other.fillna(\"None\")\n",
    "other2 = other2[other2['momo']=='None']\n",
    "other2.to_csv('other2.csv', encoding='utf-8')"
   ]
  }
 ],
 "metadata": {
  "interpreter": {
   "hash": "e13103eb99a4786c48aeb3e021bf8507da9bf77f11ee2af91b6d530362fcdd63"
  },
  "kernelspec": {
   "display_name": "Python 3.8.10 64-bit",
   "language": "python",
   "name": "python3"
  },
  "language_info": {
   "codemirror_mode": {
    "name": "ipython",
    "version": 3
   },
   "file_extension": ".py",
   "mimetype": "text/x-python",
   "name": "python",
   "nbconvert_exporter": "python",
   "pygments_lexer": "ipython3",
   "version": "3.8.10"
  },
  "orig_nbformat": 4
 },
 "nbformat": 4,
 "nbformat_minor": 2
}
