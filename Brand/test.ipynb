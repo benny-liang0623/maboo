{
 "cells": [
  {
   "cell_type": "code",
   "execution_count": 1,
   "metadata": {},
   "outputs": [
    {
     "name": "stderr",
     "output_type": "stream",
     "text": [
      "g:\\Code\\Python\\GitHub\\maboo\\.venv\\lib\\site-packages\\tqdm\\auto.py:22: TqdmWarning: IProgress not found. Please update jupyter and ipywidgets. See https://ipywidgets.readthedocs.io/en/stable/user_install.html\n",
      "  from .autonotebook import tqdm as notebook_tqdm\n"
     ]
    }
   ],
   "source": [
    "import pandas as pd\n",
    "import torch\n",
    "import torch.nn as nn\n",
    "import torch.optim as optim\n",
    "import numpy as np\n",
    "\n",
    "from transformers import BertTokenizer, BertModel\n",
    "from torch.utils.data import Dataset, DataLoader\n",
    "from sklearn.preprocessing import LabelBinarizer"
   ]
  },
  {
   "cell_type": "code",
   "execution_count": 2,
   "metadata": {},
   "outputs": [],
   "source": [
    "data = pd.read_csv('brand_data\\\\brand_data_4.csv')[['name', 'bra_整合']]\n",
    "le= LabelBinarizer()\n",
    "X = data['name']\n",
    "y = le.fit_transform(data['bra_整合'])\n",
    "\n",
    "# class_dict = {}\n",
    "# for i in enumerate(le.classes_):\n",
    "#     class_dict[i[1]] = i[0]\n"
   ]
  },
  {
   "cell_type": "code",
   "execution_count": 3,
   "metadata": {},
   "outputs": [],
   "source": [
    "device = torch.device('cuda')\n",
    "max_length = 64\n",
    "batch_size = 128\n",
    "epochs = 10\n",
    "learning_rate = 12e-4\n",
    "tokenizer = BertTokenizer.from_pretrained('bert-base-chinese')"
   ]
  },
  {
   "cell_type": "code",
   "execution_count": 4,
   "metadata": {},
   "outputs": [],
   "source": [
    "class BrandDataset(Dataset):\n",
    "    def __init__(self, X, y, tokenizer, max_length):\n",
    "        self.X = X\n",
    "        self.y = y\n",
    "        self.tokenizer = tokenizer\n",
    "        self.max_length = max_length\n",
    "    \n",
    "    def __getitem__(self, index):\n",
    "        text = self.X[index]\n",
    "        inputs = self.tokenizer.encode_plus(\n",
    "            text,\n",
    "            None,\n",
    "            add_special_tokens=True,\n",
    "            max_length=self.max_length,\n",
    "            pad_to_max_length=True,\n",
    "            return_token_type_ids=True\n",
    "        )\n",
    "        ids = inputs['input_ids']\n",
    "        mask = inputs['attention_mask']\n",
    "        \n",
    "        return {\n",
    "            'ids': torch.tensor(ids, dtype=torch.long),\n",
    "            'mask': torch.tensor(mask, dtype=torch.long),\n",
    "            'targets': torch.tensor(self.y[index], dtype=torch.float32)\n",
    "        }\n",
    "    \n",
    "    def __len__(self):\n",
    "        return len(self.X)"
   ]
  },
  {
   "cell_type": "code",
   "execution_count": 5,
   "metadata": {},
   "outputs": [],
   "source": [
    "# train_data = data.sample(frac=0.8, random_state=87)\n",
    "train_data = data\n",
    "# val_data = data.drop(train_data.index).reset_index(drop=True)\n",
    "# train_data = train_data.reset_index(drop=True)"
   ]
  },
  {
   "cell_type": "code",
   "execution_count": 6,
   "metadata": {},
   "outputs": [],
   "source": [
    "train_dataset = BrandDataset(X, y, tokenizer=tokenizer, max_length=max_length)\n",
    "# val_dataset = BrandDataset(val_data, tokenizer=tokenizer, max_length=max_length)\n",
    "train_loader = DataLoader(train_dataset, batch_size=batch_size, shuffle=True)\n",
    "# val_loader = DataLoader(val_dataset, batch_size=batch_size)"
   ]
  },
  {
   "cell_type": "code",
   "execution_count": 7,
   "metadata": {},
   "outputs": [],
   "source": [
    "class ThresholdClassifier(nn.Module):\n",
    "    def __init__(self):\n",
    "        super(ThresholdClassifier, self).__init__()\n",
    "        self.bert_model = BertModel.from_pretrained('bert-base-chinese')\n",
    "        self.linear_1 = nn.Linear(768, 512)\n",
    "        self.linear_2 = nn.Linear(512, 256)\n",
    "        # self.linear_3 = nn.Linear(256, 128)\n",
    "        self.dropout = nn.Dropout(0.2)\n",
    "        self.ln_1 = nn.LayerNorm(768)\n",
    "        self.ln_2 = nn.LayerNorm(512)\n",
    "        self.ln_3 = nn.LayerNorm(256)\n",
    "        # self.ln_4 = nn.LayerNorm(128)\n",
    "        self.linear_out = nn.Linear(256, 121)\n",
    "    \n",
    "    def forward(self, input_ids, attention_mask):\n",
    "        x = self.bert_model(input_ids, attention_mask)\n",
    "        x = self.ln_1(x[1])\n",
    "        x = torch.relu(self.linear_1(x))\n",
    "        x = self.ln_2(x)\n",
    "        x = torch.relu(self.linear_2(x))\n",
    "        x = self.ln_3(x)\n",
    "        # x = self.dropout(x)\n",
    "        # x = torch.relu(self.linear_3(x))\n",
    "        # x = self.ln_4(x)\n",
    "        x = self.linear_out(x)\n",
    "        # distribution = torch.softmax(x)\n",
    "        return x # distribution\n",
    "        "
   ]
  },
  {
   "cell_type": "code",
   "execution_count": 8,
   "metadata": {},
   "outputs": [
    {
     "name": "stderr",
     "output_type": "stream",
     "text": [
      "Some weights of the model checkpoint at bert-base-chinese were not used when initializing BertModel: ['cls.seq_relationship.weight', 'cls.predictions.decoder.weight', 'cls.predictions.transform.LayerNorm.bias', 'cls.predictions.transform.dense.bias', 'cls.seq_relationship.bias', 'cls.predictions.bias', 'cls.predictions.transform.dense.weight', 'cls.predictions.transform.LayerNorm.weight']\n",
      "- This IS expected if you are initializing BertModel from the checkpoint of a model trained on another task or with another architecture (e.g. initializing a BertForSequenceClassification model from a BertForPreTraining model).\n",
      "- This IS NOT expected if you are initializing BertModel from the checkpoint of a model that you expect to be exactly identical (initializing a BertForSequenceClassification model from a BertForSequenceClassification model).\n"
     ]
    }
   ],
   "source": [
    "model = ThresholdClassifier()\n",
    "model.to(device)\n",
    "criterion = torch.nn.CrossEntropyLoss()\n",
    "optimizer = torch.optim.Adam(params =  model.parameters(), lr=learning_rate)"
   ]
  },
  {
   "cell_type": "code",
   "execution_count": 9,
   "metadata": {},
   "outputs": [],
   "source": [
    "def calcuate_accu(big_idx, targets):\n",
    "    n_correct = (big_idx==targets).sum().item()\n",
    "    return n_correct"
   ]
  },
  {
   "cell_type": "code",
   "execution_count": 26,
   "metadata": {},
   "outputs": [],
   "source": [
    "def train(train_loader=None, val_loader=None, model=None, epochs=None, criterion=None, optimizer=None, l1_lambda=None, l2_lambda=0.001):\n",
    "    \n",
    "    scheduler = optim.lr_scheduler.ExponentialLR(optimizer, gamma=0.9)\n",
    "    \n",
    "    for epoch in range(epochs):\n",
    "        \n",
    "        model.train()\n",
    "        train_loss = []\n",
    "        train_accs = []\n",
    "        \n",
    "        for batch in train_loader:\n",
    "            \n",
    "            ids = batch['ids'].to(device, dtype=torch.long)\n",
    "            mask = batch['mask'].to(device, dtype=torch.long)\n",
    "            y = batch['targets'].to(device, dtype=torch.float32)\n",
    "            \n",
    "            logits = model(ids, mask)\n",
    "            loss = criterion(logits, y)\n",
    "            \n",
    "            # L1 regularization with normalized l1\n",
    "            if l1_lambda is not None:\n",
    "                L1_regularization = sum(p.abs().sum() for p in model.parameters())\n",
    "                param_num = sum(p.numel() for p in model.parameters())\n",
    "                loss += (l1_lambda / param_num) * L1_regularization\n",
    "            \n",
    "            # L2 regularization with normalized l2\n",
    "            if l2_lambda is not None:\n",
    "                L2_regularization = sum(p.pow(2.0).sum() for p in model.parameters())\n",
    "                param_num = sum(p.numel() for p in model.parameters())\n",
    "                loss += (l2_lambda / param_num) * L2_regularization\n",
    "            \n",
    "            optimizer.zero_grad()\n",
    "            loss.backward()\n",
    "            optimizer.step()\n",
    "            \n",
    "            acc = int(((logits.argmax(dim=-1) == y.argmax(dim=-1)).sum()).detach().cpu()) / y.shape[0]\n",
    "            train_loss.append(loss.item())\n",
    "            train_accs.append(acc)\n",
    "        \n",
    "        train_loss = sum(train_loss) / len(train_loss)\n",
    "        train_acc = sum(train_accs) / len(train_accs)\n",
    "        \n",
    "        scheduler.step()\n",
    "        \n",
    "        if val_loader is not None:\n",
    "            model.eval()\n",
    "\n",
    "            valid_loss = []\n",
    "            valid_accs = []\n",
    "            \n",
    "            for batch in val_loader:\n",
    "                \n",
    "                ids = batch['ids'].to(device, dtype=torch.long)\n",
    "                mask = batch['mask'].to(device, dtype=torch.long)\n",
    "                y = batch['targets'].to(device, dtype=torch.float32)\n",
    "                \n",
    "                with torch.no_grad():\n",
    "                    \n",
    "                    logits = model(ids, mask)\n",
    "\n",
    "                    acc = int(((logits.argmax(dim=-1) == y.argmax(dim=-1)).sum()).detach().cpu()) / y.shape[0]\n",
    "                    valid_loss.append(loss.item())\n",
    "                    valid_accs.append(acc)\n",
    "            \n",
    "            valid_loss = sum(valid_loss) / len(valid_loss)\n",
    "            valid_acc = sum(valid_accs) / len(valid_accs)\n",
    "        \n",
    "            print(f'[ {epoch+1}/{epochs} ] | train_loss = {train_loss:.5f}, train_acc = {train_acc:.5f}, val_loss = {valid_loss:.5f}, val_acc = {valid_acc:.5f}')\n",
    "        else:\n",
    "            print(f'[ {epoch+1}/{epochs} ] | train_loss = {train_loss:.5f}, train_acc = {train_acc:.5f}')\n",
    "        \n",
    "        if epoch+1 >= 50:\n",
    "            print(\"It's over 50 epochs, stop training\")\n",
    "            break"
   ]
  },
  {
   "cell_type": "code",
   "execution_count": 27,
   "metadata": {},
   "outputs": [
    {
     "name": "stdout",
     "output_type": "stream",
     "text": [
      "[ 1/100 ] | train_loss = 4.72797, train_acc = 0.02170\n",
      "[ 2/100 ] | train_loss = 4.72408, train_acc = 0.02163\n",
      "[ 3/100 ] | train_loss = 4.72199, train_acc = 0.02163\n",
      "[ 4/100 ] | train_loss = 4.72216, train_acc = 0.02170\n",
      "[ 5/100 ] | train_loss = 4.71940, train_acc = 0.02176\n",
      "[ 6/100 ] | train_loss = 4.71929, train_acc = 0.02163\n",
      "[ 7/100 ] | train_loss = 4.71817, train_acc = 0.02163\n",
      "[ 8/100 ] | train_loss = 4.71722, train_acc = 0.02170\n",
      "[ 9/100 ] | train_loss = 4.71709, train_acc = 0.02163\n",
      "[ 10/100 ] | train_loss = 4.71684, train_acc = 0.02163\n"
     ]
    }
   ],
   "source": [
    "train(train_loader=train_loader, model=model, epochs=100, criterion=criterion, optimizer=optimizer)"
   ]
  },
  {
   "cell_type": "code",
   "execution_count": null,
   "metadata": {},
   "outputs": [],
   "source": []
  }
 ],
 "metadata": {
  "interpreter": {
   "hash": "39eb600acd2b0634d99537e3e992e79770e43e62a644ba40c633472c7ebcb25d"
  },
  "kernelspec": {
   "display_name": "Python 3.7.6 ('.venv': venv)",
   "language": "python",
   "name": "python3"
  },
  "language_info": {
   "codemirror_mode": {
    "name": "ipython",
    "version": 3
   },
   "file_extension": ".py",
   "mimetype": "text/x-python",
   "name": "python",
   "nbconvert_exporter": "python",
   "pygments_lexer": "ipython3",
   "version": "3.7.6"
  },
  "orig_nbformat": 4
 },
 "nbformat": 4,
 "nbformat_minor": 2
}
