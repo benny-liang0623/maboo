{
 "cells": [
  {
   "cell_type": "code",
   "execution_count": 1,
   "metadata": {},
   "outputs": [
    {
     "name": "stderr",
     "output_type": "stream",
     "text": [
      "g:\\Code\\Python\\GitHub\\maboo\\.venv\\lib\\site-packages\\tqdm\\auto.py:22: TqdmWarning: IProgress not found. Please update jupyter and ipywidgets. See https://ipywidgets.readthedocs.io/en/stable/user_install.html\n",
      "  from .autonotebook import tqdm as notebook_tqdm\n"
     ]
    }
   ],
   "source": [
    "import pandas as pd\n",
    "import torch\n",
    "import torch.optim as optim\n",
    "import numpy as np\n",
    "import itertools\n",
    "\n",
    "from transformers import BertTokenizer\n",
    "from torch.utils.data import DataLoader\n",
    "from sklearn.preprocessing import LabelBinarizer\n",
    "from sklearn.model_selection import train_test_split\n",
    "from BrandClassifier import ThresholdClassifier\n",
    "from DataPreprocess import BrandDataset"
   ]
  },
  {
   "cell_type": "code",
   "execution_count": 2,
   "metadata": {},
   "outputs": [],
   "source": [
    "data_4 = pd.read_csv('brand_data\\\\brand_data_4.csv')\n",
    "data_1 = pd.read_csv('brand_data\\\\brand_data_1.csv')\n",
    "data = pd.concat([data_1.iloc[:, :2], data_4], axis=0)\n",
    "le= LabelBinarizer()\n",
    "# X = data['name']\n",
    "# y = le.fit_transform(data['bra_整合'])\n",
    "X_train, X_val, y_train, y_val = train_test_split(data['name'].values, data['brand'].values, test_size=0.2, random_state=89)\n",
    "\n",
    "y_train = le.fit_transform(y_train)\n",
    "y_val = le.transform(y_val)"
   ]
  },
  {
   "cell_type": "code",
   "execution_count": 3,
   "metadata": {},
   "outputs": [
    {
     "name": "stderr",
     "output_type": "stream",
     "text": [
      "Some weights of the model checkpoint at bert-base-chinese were not used when initializing BertModel: ['cls.predictions.transform.dense.weight', 'cls.predictions.decoder.weight', 'cls.predictions.transform.LayerNorm.weight', 'cls.predictions.transform.dense.bias', 'cls.seq_relationship.bias', 'cls.predictions.bias', 'cls.seq_relationship.weight', 'cls.predictions.transform.LayerNorm.bias']\n",
      "- This IS expected if you are initializing BertModel from the checkpoint of a model trained on another task or with another architecture (e.g. initializing a BertForSequenceClassification model from a BertForPreTraining model).\n",
      "- This IS NOT expected if you are initializing BertModel from the checkpoint of a model that you expect to be exactly identical (initializing a BertForSequenceClassification model from a BertForSequenceClassification model).\n"
     ]
    }
   ],
   "source": [
    "# initialize training parameters\n",
    "device = torch.device('cuda')\n",
    "max_length = 64\n",
    "batch_size = 128\n",
    "learning_rate = 5e-4\n",
    "tokenizer = BertTokenizer.from_pretrained('bert-base-chinese')\n",
    "\n",
    "train_dataset = BrandDataset(X_train, y_train, tokenizer=tokenizer, max_length=max_length)\n",
    "val_dataset = BrandDataset(X_val, y_val, tokenizer=tokenizer, max_length=max_length)\n",
    "train_loader = DataLoader(train_dataset, batch_size=batch_size, shuffle=True)\n",
    "val_loader = DataLoader(val_dataset, batch_size=batch_size)\n",
    "\n",
    "model = ThresholdClassifier(class_num=len(le.classes_))\n",
    "# model.load_state_dict(torch.load('saved_model/Brand_classifier_temp.ckpt'))\n",
    "model.to(device)\n",
    "criterion = torch.nn.CrossEntropyLoss()\n",
    "optimizer = torch.optim.AdamW(params=model.parameters(), lr=learning_rate)"
   ]
  },
  {
   "cell_type": "code",
   "execution_count": 4,
   "metadata": {},
   "outputs": [],
   "source": [
    "def train(train_loader=None, val_loader=None, model=None, epochs=None, criterion=None, optimizer=None, l1_lambda=None, l2_lambda=0.001):\n",
    "    \n",
    "    scheduler_1 = optim.lr_scheduler.ExponentialLR(optimizer, gamma=0.9)\n",
    "    scheduler_2 = optim.lr_scheduler.ReduceLROnPlateau(optimizer, mode='min', patience=7, factor=0.5)\n",
    "    all_train_accs = []\n",
    "    all_train_loss = []\n",
    "    all_val_accs = []\n",
    "    all_val_loss = []\n",
    "    for epoch in itertools.count():\n",
    "        \n",
    "        model.train()\n",
    "        train_loss = []\n",
    "        train_accs = []\n",
    "        \n",
    "        for batch in train_loader:\n",
    "            \n",
    "            ids = batch['ids'].to(device, dtype=torch.long)\n",
    "            mask = batch['mask'].to(device, dtype=torch.long)\n",
    "            y = batch['targets'].to(device, dtype=torch.float32)\n",
    "            \n",
    "            logits = model(ids, mask)\n",
    "            loss = criterion(logits, y)\n",
    "            \n",
    "            # L1 regularization with normalized l1\n",
    "            if l1_lambda is not None:\n",
    "                L1_regularization = sum(p.abs().sum() for p in model.parameters())\n",
    "                param_num = sum(p.numel() for p in model.parameters())\n",
    "                loss += (l1_lambda / param_num) * L1_regularization\n",
    "            \n",
    "            # L2 regularization with normalized l2\n",
    "            if l2_lambda is not None:\n",
    "                L2_regularization = sum(p.pow(2.0).sum() for p in model.parameters())\n",
    "                # param_num = sum(p.numel() for p in model.parameters())\n",
    "                loss += l2_lambda * L2_regularization\n",
    "            \n",
    "            optimizer.zero_grad()\n",
    "            loss.backward()\n",
    "            optimizer.step()\n",
    "            \n",
    "            acc = float(((logits.argmax(dim=-1) == y.argmax(dim=-1)).sum()).detach().cpu() / y.shape[0])\n",
    "            train_loss.append(loss.item())\n",
    "            train_accs.append(acc)\n",
    "        \n",
    "        train_loss = sum(train_loss) / len(train_loss)\n",
    "        train_acc = sum(train_accs) / len(train_accs)\n",
    "        \n",
    "        all_train_loss.append(train_loss)\n",
    "        all_train_accs.append(train_acc)\n",
    "        \n",
    "        scheduler_1.step()\n",
    "        scheduler_2.step(train_loss)\n",
    "        \n",
    "        if val_loader is not None:\n",
    "            model.eval()\n",
    "\n",
    "            valid_loss = []\n",
    "            valid_accs = []\n",
    "            \n",
    "            for batch in val_loader:\n",
    "                \n",
    "                ids = batch['ids'].to(device, dtype=torch.long)\n",
    "                mask = batch['mask'].to(device, dtype=torch.long)\n",
    "                y = batch['targets'].to(device, dtype=torch.float32)\n",
    "                \n",
    "                with torch.no_grad():\n",
    "                    \n",
    "                    logits = model(ids, mask)\n",
    "\n",
    "                    acc = float(((logits.argmax(dim=-1) == y.argmax(dim=-1)).sum()).detach().cpu() / y.shape[0])\n",
    "                    valid_loss.append(loss.item())\n",
    "                    valid_accs.append(acc)\n",
    "            \n",
    "            valid_loss = sum(valid_loss) / len(valid_loss)\n",
    "            valid_acc = sum(valid_accs) / len(valid_accs)\n",
    "            \n",
    "            all_val_loss.append(valid_loss)\n",
    "            all_val_accs.append(valid_acc)\n",
    "            \n",
    "            if epochs is not None:\n",
    "                print(f'[ {epoch+1}/{epochs} ] | train_loss = {train_loss:.5f}, train_acc = {train_acc:.5f}, val_loss = {valid_loss:.5f}, val_acc = {valid_acc:.5f}')\n",
    "            else:\n",
    "                print(f'[ {epoch+1} ] | train_loss = {train_loss:.5f}, train_acc = {train_acc:.5f}, val_loss = {valid_loss:.5f}, val_acc = {valid_acc:.5f}')\n",
    "                if epoch+1 == epochs:\n",
    "                    return model, [[all_train_accs, all_train_loss], [all_val_accs, all_val_loss]]\n",
    "            \n",
    "            if np.mean(all_train_accs[-15:]) > train_acc:\n",
    "                print('Accuracy no longer increase, stop training!')\n",
    "                return model, [[all_train_accs, all_train_loss], [all_val_accs, all_val_loss]]\n",
    "        \n",
    "        else:\n",
    "            if epochs is not None:\n",
    "                print(f'[ {epoch+1}/{epochs} ] | train_loss = {train_loss:.5f}, train_acc = {train_acc:.5f}')\n",
    "            else:\n",
    "                print(f'[ {epoch+1} ] | train_loss = {train_loss:.5f}, train_acc = {train_acc:.5f}')\n",
    "                if epoch+1 == epochs:\n",
    "                    return model, [all_train_accs, all_train_loss]\n",
    "        \n",
    "        # model saving\n",
    "        if train_acc >= max(all_train_accs):\n",
    "            torch.save(model.state_dict(), 'saved_model/Brand_classifier_temp.ckpt')\n",
    "        \n",
    "        # stopping criterion    \n",
    "        if (len(all_train_accs) >= 30) and (np.mean(all_train_loss[-25:]) > train_loss):\n",
    "            print('Loss no longer decrease, stop training!')\n",
    "            return model, [all_train_accs, all_train_loss]"
   ]
  },
  {
   "cell_type": "code",
   "execution_count": 5,
   "metadata": {},
   "outputs": [
    {
     "name": "stderr",
     "output_type": "stream",
     "text": [
      "Truncation was not explicitly activated but `max_length` is provided a specific value, please use `truncation=True` to explicitly truncate examples to max length. Defaulting to 'longest_first' truncation strategy. If you encode pairs of sequences (GLUE-style) with the tokenizer you can select this strategy more precisely by providing a specific strategy to `truncation`.\n",
      "g:\\Code\\Python\\GitHub\\maboo\\.venv\\lib\\site-packages\\transformers\\tokenization_utils_base.py:2269: FutureWarning: The `pad_to_max_length` argument is deprecated and will be removed in a future version, use `padding=True` or `padding='longest'` to pad to the longest sequence in the batch, or use `padding='max_length'` to pad to a max length. In this case, you can give a specific length with `max_length` (e.g. `max_length=45`) or leave max_length to None to pad to the maximal input size of the model (e.g. 512 for Bert).\n",
      "  FutureWarning,\n"
     ]
    },
    {
     "name": "stdout",
     "output_type": "stream",
     "text": [
      "[ 1 ] | train_loss = 190.70487, train_acc = 0.03880, val_loss = 190.46538, val_acc = 0.07238\n",
      "[ 2 ] | train_loss = 190.20262, train_acc = 0.11012, val_loss = 190.09349, val_acc = 0.14595\n"
     ]
    }
   ],
   "source": [
    "model, history = train(train_loader=train_loader, val_loader=val_loader, model=model, epochs=None, criterion=criterion, optimizer=optimizer)"
   ]
  },
  {
   "cell_type": "code",
   "execution_count": null,
   "metadata": {},
   "outputs": [],
   "source": [
    "# torch.save(model, 'saved_model/whole_Brand_classifier.ckpt')"
   ]
  },
  {
   "cell_type": "code",
   "execution_count": null,
   "metadata": {},
   "outputs": [],
   "source": []
  }
 ],
 "metadata": {
  "interpreter": {
   "hash": "39eb600acd2b0634d99537e3e992e79770e43e62a644ba40c633472c7ebcb25d"
  },
  "kernelspec": {
   "display_name": "Python 3.7.6 ('.venv': venv)",
   "language": "python",
   "name": "python3"
  },
  "language_info": {
   "codemirror_mode": {
    "name": "ipython",
    "version": 3
   },
   "file_extension": ".py",
   "mimetype": "text/x-python",
   "name": "python",
   "nbconvert_exporter": "python",
   "pygments_lexer": "ipython3",
   "version": "3.7.6"
  },
  "orig_nbformat": 4
 },
 "nbformat": 4,
 "nbformat_minor": 2
}
