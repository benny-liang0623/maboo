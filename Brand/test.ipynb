{
 "cells": [
  {
   "cell_type": "code",
   "execution_count": 1,
   "metadata": {},
   "outputs": [
    {
     "name": "stderr",
     "output_type": "stream",
     "text": [
      "g:\\Code\\Python\\GitHub\\maboo\\.venv\\lib\\site-packages\\tqdm\\auto.py:22: TqdmWarning: IProgress not found. Please update jupyter and ipywidgets. See https://ipywidgets.readthedocs.io/en/stable/user_install.html\n",
      "  from .autonotebook import tqdm as notebook_tqdm\n"
     ]
    }
   ],
   "source": [
    "import pandas as pd\n",
    "import torch\n",
    "import torch.optim as optim\n",
    "import numpy as np\n",
    "import itertools\n",
    "\n",
    "from transformers import BertTokenizer\n",
    "from torch.utils.data import DataLoader\n",
    "from sklearn.preprocessing import LabelBinarizer\n",
    "from BrandClassifier import ThresholdClassifier\n",
    "from DataPreprocess import BrandDataset"
   ]
  },
  {
   "cell_type": "code",
   "execution_count": 2,
   "metadata": {},
   "outputs": [],
   "source": [
    "data = pd.read_csv('brand_data\\\\brand_data_4.csv')[['name', 'bra_整合']]\n",
    "le= LabelBinarizer()\n",
    "X = data['name']\n",
    "y = le.fit_transform(data['bra_整合'])"
   ]
  },
  {
   "cell_type": "code",
   "execution_count": 7,
   "metadata": {},
   "outputs": [
    {
     "name": "stderr",
     "output_type": "stream",
     "text": [
      "Some weights of the model checkpoint at bert-base-chinese were not used when initializing BertModel: ['cls.predictions.transform.LayerNorm.weight', 'cls.predictions.transform.LayerNorm.bias', 'cls.predictions.transform.dense.weight', 'cls.predictions.bias', 'cls.predictions.decoder.weight', 'cls.predictions.transform.dense.bias', 'cls.seq_relationship.bias', 'cls.seq_relationship.weight']\n",
      "- This IS expected if you are initializing BertModel from the checkpoint of a model trained on another task or with another architecture (e.g. initializing a BertForSequenceClassification model from a BertForPreTraining model).\n",
      "- This IS NOT expected if you are initializing BertModel from the checkpoint of a model that you expect to be exactly identical (initializing a BertForSequenceClassification model from a BertForSequenceClassification model).\n"
     ]
    }
   ],
   "source": [
    "device = torch.device('cuda')\n",
    "max_length = 64\n",
    "batch_size = 128\n",
    "learning_rate = 5e-4\n",
    "tokenizer = BertTokenizer.from_pretrained('bert-base-chinese')\n",
    "\n",
    "# train_data = data.sample(frac=0.8, random_state=87)\n",
    "train_data = data\n",
    "# val_data = data.drop(train_data.index).reset_index(drop=True)\n",
    "# train_data = train_data.reset_index(drop=True)\n",
    "\n",
    "train_dataset = BrandDataset(X, y, tokenizer=tokenizer, max_length=max_length)\n",
    "# val_dataset = BrandDataset(val_data, tokenizer=tokenizer, max_length=max_length)\n",
    "train_loader = DataLoader(train_dataset, batch_size=batch_size, shuffle=True)\n",
    "# val_loader = DataLoader(val_dataset, batch_size=batch_size)\n",
    "\n",
    "model = ThresholdClassifier()\n",
    "# model.load_state_dict(torch.load('saved_model/Brand_classifier_temp.ckpt'))\n",
    "model.to(device)\n",
    "criterion = torch.nn.CrossEntropyLoss()\n",
    "optimizer = torch.optim.AdamW(params=model.parameters(), lr=learning_rate)"
   ]
  },
  {
   "cell_type": "code",
   "execution_count": 5,
   "metadata": {},
   "outputs": [],
   "source": [
    "def train(train_loader=None, val_loader=None, model=None, epochs=None, criterion=None, optimizer=None, l1_lambda=None, l2_lambda=0.001):\n",
    "    \n",
    "    scheduler_1 = optim.lr_scheduler.ExponentialLR(optimizer, gamma=0.9)\n",
    "    scheduler_2 = optim.lr_scheduler.ReduceLROnPlateau(optimizer, mode='min', patience=7, factor=0.5)\n",
    "    all_train_accs = []\n",
    "    all_train_loss = []\n",
    "    all_val_accs = []\n",
    "    all_val_loss = []\n",
    "    for epoch in itertools.count():\n",
    "        \n",
    "        model.train()\n",
    "        train_loss = []\n",
    "        train_accs = []\n",
    "        \n",
    "        for batch in train_loader:\n",
    "            \n",
    "            ids = batch['ids'].to(device, dtype=torch.long)\n",
    "            mask = batch['mask'].to(device, dtype=torch.long)\n",
    "            y = batch['targets'].to(device, dtype=torch.float32)\n",
    "            \n",
    "            logits = model(ids, mask)\n",
    "            loss = criterion(logits, y)\n",
    "            \n",
    "            # L1 regularization with normalized l1\n",
    "            if l1_lambda is not None:\n",
    "                L1_regularization = sum(p.abs().sum() for p in model.parameters())\n",
    "                param_num = sum(p.numel() for p in model.parameters())\n",
    "                loss += (l1_lambda / param_num) * L1_regularization\n",
    "            \n",
    "            # L2 regularization with normalized l2\n",
    "            if l2_lambda is not None:\n",
    "                L2_regularization = sum(p.pow(2.0).sum() for p in model.parameters())\n",
    "                # param_num = sum(p.numel() for p in model.parameters())\n",
    "                loss += l2_lambda * L2_regularization\n",
    "            \n",
    "            optimizer.zero_grad()\n",
    "            loss.backward()\n",
    "            optimizer.step()\n",
    "            \n",
    "            acc = float(((logits.argmax(dim=-1) == y.argmax(dim=-1)).sum()).detach().cpu() / y.shape[0])\n",
    "            train_loss.append(loss.item())\n",
    "            train_accs.append(acc)\n",
    "        \n",
    "        train_loss = sum(train_loss) / len(train_loss)\n",
    "        train_acc = sum(train_accs) / len(train_accs)\n",
    "        \n",
    "        all_train_loss.append(train_loss)\n",
    "        all_train_accs.append(train_acc)\n",
    "        \n",
    "        scheduler_1.step()\n",
    "        scheduler_2.step(train_loss)\n",
    "        \n",
    "        if val_loader is not None:\n",
    "            model.eval()\n",
    "\n",
    "            valid_loss = []\n",
    "            valid_accs = []\n",
    "            \n",
    "            for batch in val_loader:\n",
    "                \n",
    "                ids = batch['ids'].to(device, dtype=torch.long)\n",
    "                mask = batch['mask'].to(device, dtype=torch.long)\n",
    "                y = batch['targets'].to(device, dtype=torch.float32)\n",
    "                \n",
    "                with torch.no_grad():\n",
    "                    \n",
    "                    logits = model(ids, mask)\n",
    "\n",
    "                    acc = float(((logits.argmax(dim=-1) == y.argmax(dim=-1)).sum()).detach().cpu() / y.shape[0])\n",
    "                    valid_loss.append(loss.item())\n",
    "                    valid_accs.append(acc)\n",
    "            \n",
    "            valid_loss = sum(valid_loss) / len(valid_loss)\n",
    "            valid_acc = sum(valid_accs) / len(valid_accs)\n",
    "            \n",
    "            all_val_loss.append(valid_loss)\n",
    "            all_val_accs.append(valid_acc)\n",
    "            \n",
    "            if epochs is not None:\n",
    "                print(f'[ {epoch+1}/{epochs} ] | train_loss = {train_loss:.5f}, train_acc = {train_acc:.5f}, val_loss = {valid_loss:.5f}, val_acc = {valid_acc:.5f}')\n",
    "            else:\n",
    "                print(f'[ {epoch+1} ] | train_loss = {train_loss:.5f}, train_acc = {train_acc:.5f}, val_loss = {valid_loss:.5f}, val_acc = {valid_acc:.5f}')\n",
    "                if epoch+1 == epochs:\n",
    "                    return model, [[all_train_accs, all_train_loss], [all_val_accs, all_val_loss]]\n",
    "            \n",
    "            if np.mean(all_train_accs[-15:]) > train_acc:\n",
    "                print('Accuracy no longer increase, stop training!')\n",
    "                return model, [[all_train_accs, all_train_loss], [all_val_accs, all_val_loss]]\n",
    "        \n",
    "        else:\n",
    "            if epochs is not None:\n",
    "                print(f'[ {epoch+1}/{epochs} ] | train_loss = {train_loss:.5f}, train_acc = {train_acc:.5f}')\n",
    "            else:\n",
    "                print(f'[ {epoch+1} ] | train_loss = {train_loss:.5f}, train_acc = {train_acc:.5f}')\n",
    "                if epoch+1 == epochs:\n",
    "                    return model, [all_train_accs, all_train_loss]\n",
    "        \n",
    "        if train_acc >= max(all_train_accs):\n",
    "            torch.save(model.state_dict(), 'saved_model/Brand_classifier_temp.ckpt')\n",
    "                \n",
    "        if (len(all_train_accs) >= 50) and (np.mean(all_train_loss[-25:]) > train_loss):\n",
    "            print('Loss no longer decrease, stop training!')\n",
    "            return model, [all_train_accs, all_train_loss]"
   ]
  },
  {
   "cell_type": "code",
   "execution_count": 9,
   "metadata": {},
   "outputs": [
    {
     "name": "stdout",
     "output_type": "stream",
     "text": [
      "[ 1 ] | train_loss = 187.63061, train_acc = 0.50438\n",
      "[ 2 ] | train_loss = 187.62740, train_acc = 0.50095\n",
      "[ 3 ] | train_loss = 187.63649, train_acc = 0.49912\n",
      "[ 4 ] | train_loss = 187.62012, train_acc = 0.50684\n",
      "[ 5 ] | train_loss = 187.63605, train_acc = 0.49773\n",
      "[ 6 ] | train_loss = 187.61873, train_acc = 0.50803\n",
      "[ 7 ] | train_loss = 187.62910, train_acc = 0.50495\n",
      "[ 8 ] | train_loss = 187.62612, train_acc = 0.50086\n",
      "[ 9 ] | train_loss = 187.63074, train_acc = 0.50196\n",
      "[ 10 ] | train_loss = 187.61251, train_acc = 0.50854\n",
      "[ 11 ] | train_loss = 187.63166, train_acc = 0.50123\n",
      "[ 12 ] | train_loss = 187.63934, train_acc = 0.50139\n",
      "[ 13 ] | train_loss = 187.63318, train_acc = 0.50141\n",
      "[ 14 ] | train_loss = 187.62060, train_acc = 0.50827\n",
      "[ 15 ] | train_loss = 187.62006, train_acc = 0.50731\n",
      "[ 16 ] | train_loss = 187.63395, train_acc = 0.49740\n",
      "[ 17 ] | train_loss = 187.62672, train_acc = 0.50816\n",
      "[ 18 ] | train_loss = 187.62928, train_acc = 0.50381\n",
      "[ 19 ] | train_loss = 187.61811, train_acc = 0.50405\n",
      "[ 20 ] | train_loss = 187.61958, train_acc = 0.50913\n",
      "[ 21 ] | train_loss = 187.63136, train_acc = 0.50172\n",
      "[ 22 ] | train_loss = 187.62236, train_acc = 0.50711\n",
      "[ 23 ] | train_loss = 187.63937, train_acc = 0.49683\n",
      "[ 24 ] | train_loss = 187.62824, train_acc = 0.50359\n",
      "[ 25 ] | train_loss = 187.61921, train_acc = 0.50687\n",
      "[ 26 ] | train_loss = 187.62160, train_acc = 0.49998\n",
      "[ 27 ] | train_loss = 187.61873, train_acc = 0.51012\n",
      "[ 28 ] | train_loss = 187.62033, train_acc = 0.50830\n",
      "[ 29 ] | train_loss = 187.62313, train_acc = 0.50035\n",
      "[ 30 ] | train_loss = 187.62686, train_acc = 0.49760\n",
      "[ 31 ] | train_loss = 187.62305, train_acc = 0.49857\n",
      "[ 32 ] | train_loss = 187.62713, train_acc = 0.50585\n",
      "[ 33 ] | train_loss = 187.62836, train_acc = 0.50662\n",
      "[ 34 ] | train_loss = 187.63536, train_acc = 0.49780\n",
      "[ 35 ] | train_loss = 187.63954, train_acc = 0.49998\n",
      "[ 36 ] | train_loss = 187.62621, train_acc = 0.50453\n",
      "[ 37 ] | train_loss = 187.62496, train_acc = 0.50662\n",
      "[ 38 ] | train_loss = 187.62834, train_acc = 0.50812\n",
      "[ 39 ] | train_loss = 187.62681, train_acc = 0.50429\n",
      "[ 40 ] | train_loss = 187.62138, train_acc = 0.49833\n",
      "[ 41 ] | train_loss = 187.62027, train_acc = 0.50744\n",
      "[ 42 ] | train_loss = 187.61893, train_acc = 0.51285\n",
      "[ 43 ] | train_loss = 187.61546, train_acc = 0.50975\n",
      "[ 44 ] | train_loss = 187.62936, train_acc = 0.49366\n",
      "[ 45 ] | train_loss = 187.62072, train_acc = 0.51186\n",
      "[ 46 ] | train_loss = 187.61563, train_acc = 0.51026\n",
      "[ 47 ] | train_loss = 187.61117, train_acc = 0.51048\n",
      "[ 48 ] | train_loss = 187.62854, train_acc = 0.50059\n",
      "[ 49 ] | train_loss = 187.62849, train_acc = 0.50627\n"
     ]
    },
    {
     "ename": "KeyboardInterrupt",
     "evalue": "",
     "output_type": "error",
     "traceback": [
      "\u001b[1;31m---------------------------------------------------------------------------\u001b[0m",
      "\u001b[1;31mKeyboardInterrupt\u001b[0m                         Traceback (most recent call last)",
      "\u001b[1;32m~\\AppData\\Local\\Temp\\ipykernel_14812\\987798102.py\u001b[0m in \u001b[0;36m<module>\u001b[1;34m\u001b[0m\n\u001b[1;32m----> 1\u001b[1;33m \u001b[0mmodel\u001b[0m\u001b[1;33m,\u001b[0m \u001b[0mhistory\u001b[0m \u001b[1;33m=\u001b[0m \u001b[0mtrain\u001b[0m\u001b[1;33m(\u001b[0m\u001b[0mtrain_loader\u001b[0m\u001b[1;33m=\u001b[0m\u001b[0mtrain_loader\u001b[0m\u001b[1;33m,\u001b[0m \u001b[0mmodel\u001b[0m\u001b[1;33m=\u001b[0m\u001b[0mmodel\u001b[0m\u001b[1;33m,\u001b[0m \u001b[0mepochs\u001b[0m\u001b[1;33m=\u001b[0m\u001b[1;32mNone\u001b[0m\u001b[1;33m,\u001b[0m \u001b[0mcriterion\u001b[0m\u001b[1;33m=\u001b[0m\u001b[0mcriterion\u001b[0m\u001b[1;33m,\u001b[0m \u001b[0moptimizer\u001b[0m\u001b[1;33m=\u001b[0m\u001b[0moptimizer\u001b[0m\u001b[1;33m)\u001b[0m\u001b[1;33m\u001b[0m\u001b[1;33m\u001b[0m\u001b[0m\n\u001b[0m",
      "\u001b[1;32m~\\AppData\\Local\\Temp\\ipykernel_14812\\3226231601.py\u001b[0m in \u001b[0;36mtrain\u001b[1;34m(train_loader, val_loader, model, epochs, criterion, optimizer, l1_lambda, l2_lambda)\u001b[0m\n\u001b[0;32m     38\u001b[0m             \u001b[0moptimizer\u001b[0m\u001b[1;33m.\u001b[0m\u001b[0mstep\u001b[0m\u001b[1;33m(\u001b[0m\u001b[1;33m)\u001b[0m\u001b[1;33m\u001b[0m\u001b[1;33m\u001b[0m\u001b[0m\n\u001b[0;32m     39\u001b[0m \u001b[1;33m\u001b[0m\u001b[0m\n\u001b[1;32m---> 40\u001b[1;33m             \u001b[0macc\u001b[0m \u001b[1;33m=\u001b[0m \u001b[0mfloat\u001b[0m\u001b[1;33m(\u001b[0m\u001b[1;33m(\u001b[0m\u001b[1;33m(\u001b[0m\u001b[0mlogits\u001b[0m\u001b[1;33m.\u001b[0m\u001b[0margmax\u001b[0m\u001b[1;33m(\u001b[0m\u001b[0mdim\u001b[0m\u001b[1;33m=\u001b[0m\u001b[1;33m-\u001b[0m\u001b[1;36m1\u001b[0m\u001b[1;33m)\u001b[0m \u001b[1;33m==\u001b[0m \u001b[0my\u001b[0m\u001b[1;33m.\u001b[0m\u001b[0margmax\u001b[0m\u001b[1;33m(\u001b[0m\u001b[0mdim\u001b[0m\u001b[1;33m=\u001b[0m\u001b[1;33m-\u001b[0m\u001b[1;36m1\u001b[0m\u001b[1;33m)\u001b[0m\u001b[1;33m)\u001b[0m\u001b[1;33m.\u001b[0m\u001b[0msum\u001b[0m\u001b[1;33m(\u001b[0m\u001b[1;33m)\u001b[0m\u001b[1;33m)\u001b[0m\u001b[1;33m.\u001b[0m\u001b[0mdetach\u001b[0m\u001b[1;33m(\u001b[0m\u001b[1;33m)\u001b[0m\u001b[1;33m.\u001b[0m\u001b[0mcpu\u001b[0m\u001b[1;33m(\u001b[0m\u001b[1;33m)\u001b[0m \u001b[1;33m/\u001b[0m \u001b[0my\u001b[0m\u001b[1;33m.\u001b[0m\u001b[0mshape\u001b[0m\u001b[1;33m[\u001b[0m\u001b[1;36m0\u001b[0m\u001b[1;33m]\u001b[0m\u001b[1;33m)\u001b[0m\u001b[1;33m\u001b[0m\u001b[1;33m\u001b[0m\u001b[0m\n\u001b[0m\u001b[0;32m     41\u001b[0m             \u001b[0mtrain_loss\u001b[0m\u001b[1;33m.\u001b[0m\u001b[0mappend\u001b[0m\u001b[1;33m(\u001b[0m\u001b[0mloss\u001b[0m\u001b[1;33m.\u001b[0m\u001b[0mitem\u001b[0m\u001b[1;33m(\u001b[0m\u001b[1;33m)\u001b[0m\u001b[1;33m)\u001b[0m\u001b[1;33m\u001b[0m\u001b[1;33m\u001b[0m\u001b[0m\n\u001b[0;32m     42\u001b[0m             \u001b[0mtrain_accs\u001b[0m\u001b[1;33m.\u001b[0m\u001b[0mappend\u001b[0m\u001b[1;33m(\u001b[0m\u001b[0macc\u001b[0m\u001b[1;33m)\u001b[0m\u001b[1;33m\u001b[0m\u001b[1;33m\u001b[0m\u001b[0m\n",
      "\u001b[1;31mKeyboardInterrupt\u001b[0m: "
     ]
    }
   ],
   "source": [
    "model, history = train(train_loader=train_loader, model=model, epochs=None, criterion=criterion, optimizer=optimizer)"
   ]
  },
  {
   "cell_type": "code",
   "execution_count": null,
   "metadata": {},
   "outputs": [],
   "source": [
    "# torch.save(model, 'saved_model/whole_Brand_classifier.ckpt')"
   ]
  },
  {
   "cell_type": "code",
   "execution_count": null,
   "metadata": {},
   "outputs": [],
   "source": []
  }
 ],
 "metadata": {
  "interpreter": {
   "hash": "39eb600acd2b0634d99537e3e992e79770e43e62a644ba40c633472c7ebcb25d"
  },
  "kernelspec": {
   "display_name": "Python 3.7.6 ('.venv': venv)",
   "language": "python",
   "name": "python3"
  },
  "language_info": {
   "codemirror_mode": {
    "name": "ipython",
    "version": 3
   },
   "file_extension": ".py",
   "mimetype": "text/x-python",
   "name": "python",
   "nbconvert_exporter": "python",
   "pygments_lexer": "ipython3",
   "version": "3.7.6"
  },
  "orig_nbformat": 4
 },
 "nbformat": 4,
 "nbformat_minor": 2
}
