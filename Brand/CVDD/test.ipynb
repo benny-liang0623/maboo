{
 "cells": [
  {
   "cell_type": "code",
   "execution_count": 2,
   "metadata": {},
   "outputs": [
    {
     "name": "stderr",
     "output_type": "stream",
     "text": [
      "g:\\Code\\Python\\GitHub\\maboo\\.venv\\lib\\site-packages\\tqdm\\auto.py:22: TqdmWarning: IProgress not found. Please update jupyter and ipywidgets. See https://ipywidgets.readthedocs.io/en/stable/user_install.html\n",
      "  from .autonotebook import tqdm as notebook_tqdm\n"
     ]
    }
   ],
   "source": [
    "import pandas as pd\n",
    "import torch\n",
    "import torch.nn as nn\n",
    "import torch.optim as optim\n",
    "import numpy as np\n",
    "import itertools\n",
    "\n",
    "from transformers import BertTokenizer, BertModel\n",
    "from torch.utils.data import DataLoader, Dataset\n",
    "from sklearn.preprocessing import LabelBinarizer\n",
    "from sklearn.model_selection import train_test_split"
   ]
  },
  {
   "cell_type": "code",
   "execution_count": 14,
   "metadata": {},
   "outputs": [],
   "source": [
    "df = pd.read_csv('G:/Code/Python/GitHub/maboo/Brand/資料/brand_final.csv', ).loc[:, ['name', 'brand']]"
   ]
  },
  {
   "cell_type": "code",
   "execution_count": 15,
   "metadata": {},
   "outputs": [
    {
     "data": {
      "text/html": [
       "<div>\n",
       "<style scoped>\n",
       "    .dataframe tbody tr th:only-of-type {\n",
       "        vertical-align: middle;\n",
       "    }\n",
       "\n",
       "    .dataframe tbody tr th {\n",
       "        vertical-align: top;\n",
       "    }\n",
       "\n",
       "    .dataframe thead th {\n",
       "        text-align: right;\n",
       "    }\n",
       "</style>\n",
       "<table border=\"1\" class=\"dataframe\">\n",
       "  <thead>\n",
       "    <tr style=\"text-align: right;\">\n",
       "      <th></th>\n",
       "      <th>name</th>\n",
       "      <th>brand</th>\n",
       "    </tr>\n",
       "  </thead>\n",
       "  <tbody>\n",
       "    <tr>\n",
       "      <th>0</th>\n",
       "      <td>ABS深層極淨保濕竹炭卸妝油</td>\n",
       "      <td>ABSOLUTE NEW YORK 絕色紐約</td>\n",
       "    </tr>\n",
       "    <tr>\n",
       "      <th>1</th>\n",
       "      <td>ABS深層極淨保濕竹炭卸妝棉</td>\n",
       "      <td>ABSOLUTE NEW YORK 絕色紐約</td>\n",
       "    </tr>\n",
       "    <tr>\n",
       "      <th>2</th>\n",
       "      <td>ABS炫麗雙色潤澤唇彩ALD02</td>\n",
       "      <td>ABSOLUTE NEW YORK 絕色紐約</td>\n",
       "    </tr>\n",
       "    <tr>\n",
       "      <th>3</th>\n",
       "      <td>ABS柔絲顯色唇彩AVL11</td>\n",
       "      <td>ABSOLUTE NEW YORK 絕色紐約</td>\n",
       "    </tr>\n",
       "    <tr>\n",
       "      <th>4</th>\n",
       "      <td>ABS耀目時尚炫彩光感柔滑眼影盤極緻裸</td>\n",
       "      <td>ABSOLUTE NEW YORK 絕色紐約</td>\n",
       "    </tr>\n",
       "    <tr>\n",
       "      <th>...</th>\n",
       "      <td>...</td>\n",
       "      <td>...</td>\n",
       "    </tr>\n",
       "    <tr>\n",
       "      <th>30567</th>\n",
       "      <td>羅技g102電競滑鼠</td>\n",
       "      <td>羅技logitech</td>\n",
       "    </tr>\n",
       "    <tr>\n",
       "      <th>30568</th>\n",
       "      <td>羅技木星軌跡球marblemouse/左右對稱軌跡球/適合工作與遊戲/marble光學感應技術</td>\n",
       "      <td>羅技logitech</td>\n",
       "    </tr>\n",
       "    <tr>\n",
       "      <th>30569</th>\n",
       "      <td>【logitechg】g502hero高效能電競滑鼠</td>\n",
       "      <td>羅技logitech</td>\n",
       "    </tr>\n",
       "    <tr>\n",
       "      <th>30570</th>\n",
       "      <td>【logitech羅技】pebblem350風格滑鼠上蓋花季系列(不含滑鼠)</td>\n",
       "      <td>羅技logitech</td>\n",
       "    </tr>\n",
       "    <tr>\n",
       "      <th>30571</th>\n",
       "      <td>logitech羅技m221silent靜音無線滑鼠【官方旗艦店】</td>\n",
       "      <td>羅技logitech</td>\n",
       "    </tr>\n",
       "  </tbody>\n",
       "</table>\n",
       "<p>30572 rows × 2 columns</p>\n",
       "</div>"
      ],
      "text/plain": [
       "                                                  name                   brand\n",
       "0                                       ABS深層極淨保濕竹炭卸妝油  ABSOLUTE NEW YORK 絕色紐約\n",
       "1                                       ABS深層極淨保濕竹炭卸妝棉  ABSOLUTE NEW YORK 絕色紐約\n",
       "2                                     ABS炫麗雙色潤澤唇彩ALD02  ABSOLUTE NEW YORK 絕色紐約\n",
       "3                                       ABS柔絲顯色唇彩AVL11  ABSOLUTE NEW YORK 絕色紐約\n",
       "4                                  ABS耀目時尚炫彩光感柔滑眼影盤極緻裸  ABSOLUTE NEW YORK 絕色紐約\n",
       "...                                                ...                     ...\n",
       "30567                                       羅技g102電競滑鼠              羅技logitech\n",
       "30568  羅技木星軌跡球marblemouse/左右對稱軌跡球/適合工作與遊戲/marble光學感應技術              羅技logitech\n",
       "30569                       【logitechg】g502hero高效能電競滑鼠              羅技logitech\n",
       "30570           【logitech羅技】pebblem350風格滑鼠上蓋花季系列(不含滑鼠)              羅技logitech\n",
       "30571                logitech羅技m221silent靜音無線滑鼠【官方旗艦店】              羅技logitech\n",
       "\n",
       "[30572 rows x 2 columns]"
      ]
     },
     "execution_count": 15,
     "metadata": {},
     "output_type": "execute_result"
    }
   ],
   "source": [
    "df"
   ]
  },
  {
   "cell_type": "code",
   "execution_count": null,
   "metadata": {},
   "outputs": [],
   "source": []
  }
 ],
 "metadata": {
  "interpreter": {
   "hash": "39eb600acd2b0634d99537e3e992e79770e43e62a644ba40c633472c7ebcb25d"
  },
  "kernelspec": {
   "display_name": "Python 3.7.6 ('.venv': venv)",
   "language": "python",
   "name": "python3"
  },
  "language_info": {
   "codemirror_mode": {
    "name": "ipython",
    "version": 3
   },
   "file_extension": ".py",
   "mimetype": "text/x-python",
   "name": "python",
   "nbconvert_exporter": "python",
   "pygments_lexer": "ipython3",
   "version": "3.7.6"
  },
  "orig_nbformat": 4
 },
 "nbformat": 4,
 "nbformat_minor": 2
}
