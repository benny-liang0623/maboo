{
 "cells": [
  {
   "cell_type": "code",
   "execution_count": 1,
   "metadata": {},
   "outputs": [],
   "source": [
    "import pandas as pd\n",
    "import jieba\n",
    "import string\n",
    "\n",
    "from sklearn.preprocessing import MultiLabelBinarizer"
   ]
  },
  {
   "cell_type": "code",
   "execution_count": 2,
   "metadata": {},
   "outputs": [
    {
     "data": {
      "text/plain": [
       "'已知問題資料: 9691, 法文, 日文'"
      ]
     },
     "execution_count": 2,
     "metadata": {},
     "output_type": "execute_result"
    }
   ],
   "source": [
    "df = pd.read_csv('品類資料集\\cat_train_v2.csv')\n",
    "df = df[['name', 'product']]\n",
    "'''已知問題資料: 9691, 法文, 日文'''"
   ]
  },
  {
   "cell_type": "code",
   "execution_count": 3,
   "metadata": {},
   "outputs": [],
   "source": [
    "df = df[df['name'] != '#NAME?']\n",
    "df.reset_index(inplace=True)\n",
    "df.drop(['index'], axis=1, inplace=True)\n",
    "# df.set_index(['index'], inplace=True)"
   ]
  },
  {
   "cell_type": "code",
   "execution_count": 4,
   "metadata": {},
   "outputs": [],
   "source": [
    "with open('stop.txt', 'r', encoding='utf-8') as f:\n",
    "    stop = [i.strip() for i in f.readlines()]"
   ]
  },
  {
   "cell_type": "code",
   "execution_count": 5,
   "metadata": {},
   "outputs": [],
   "source": [
    "def remove_things(text):\n",
    "    text = \"\".join([i for i in text if i not in stop])               # 移除停止詞\n",
    "    text = \"\".join([i for i in text if i not in string.punctuation]) # 移除標點\n",
    "    text = \"\".join([i for i in text if i not in string.whitespace])  # 移除空格\n",
    "    return text\n",
    "\n",
    "def strQ2B(ustring):\n",
    "    \"\"\"把字串全形轉半形\"\"\"\n",
    "    ss = []\n",
    "    for s in ustring:\n",
    "        rstring = \"\"\n",
    "        for uchar in s:\n",
    "            inside_code = ord(uchar)\n",
    "            if inside_code == 12288:  # 全形空格直接轉換\n",
    "                inside_code = 32\n",
    "            elif (inside_code >= 65281 and inside_code <= 65374):  # 全形字元（除空格）根據關係轉化\n",
    "                inside_code -= 65248\n",
    "            rstring += chr(inside_code)\n",
    "        ss.append(rstring)\n",
    "    return ''.join(ss)"
   ]
  },
  {
   "cell_type": "code",
   "execution_count": 6,
   "metadata": {},
   "outputs": [],
   "source": [
    "df['name'] = df['name'].apply(lambda x: x.lower())\n",
    "df['name'] = df['name'].apply(lambda x: remove_things(x))\n",
    "df['name'] = df['name'].apply(lambda x: strQ2B(x))"
   ]
  },
  {
   "cell_type": "code",
   "execution_count": 9,
   "metadata": {},
   "outputs": [],
   "source": [
    "df = df[df['name'] != '']\n",
    "df.reset_index(inplace=True)\n",
    "df.drop(['index'], axis=1, inplace=True)"
   ]
  },
  {
   "cell_type": "code",
   "execution_count": 10,
   "metadata": {},
   "outputs": [
    {
     "data": {
      "text/html": [
       "<div>\n",
       "<style scoped>\n",
       "    .dataframe tbody tr th:only-of-type {\n",
       "        vertical-align: middle;\n",
       "    }\n",
       "\n",
       "    .dataframe tbody tr th {\n",
       "        vertical-align: top;\n",
       "    }\n",
       "\n",
       "    .dataframe thead th {\n",
       "        text-align: right;\n",
       "    }\n",
       "</style>\n",
       "<table border=\"1\" class=\"dataframe\">\n",
       "  <thead>\n",
       "    <tr style=\"text-align: right;\">\n",
       "      <th></th>\n",
       "      <th>name</th>\n",
       "      <th>product</th>\n",
       "    </tr>\n",
       "  </thead>\n",
       "  <tbody>\n",
       "    <tr>\n",
       "      <th>0</th>\n",
       "      <td>r視舒坦支裝工淚液點眼液ml支入</td>\n",
       "      <td>人工淚液</td>\n",
       "    </tr>\n",
       "    <tr>\n",
       "      <th>1</th>\n",
       "      <td>優麗舒點眼液ml</td>\n",
       "      <td>人工淚液</td>\n",
       "    </tr>\n",
       "    <tr>\n",
       "      <th>2</th>\n",
       "      <td>r視舒坦支裝工</td>\n",
       "      <td>人工淚液</td>\n",
       "    </tr>\n",
       "    <tr>\n",
       "      <th>3</th>\n",
       "      <td>rohto乾眼淚液</td>\n",
       "      <td>人工淚液</td>\n",
       "    </tr>\n",
       "    <tr>\n",
       "      <th>4</th>\n",
       "      <td>r參天柔潤工淚液點眼液ml入</td>\n",
       "      <td>人工淚液</td>\n",
       "    </tr>\n",
       "    <tr>\n",
       "      <th>...</th>\n",
       "      <td>...</td>\n",
       "      <td>...</td>\n",
       "    </tr>\n",
       "    <tr>\n",
       "      <th>92289</th>\n",
       "      <td>mdmmd微醺心機漸層腮紅玫瑰瑪格麗特</td>\n",
       "      <td>腮紅</td>\n",
       "    </tr>\n",
       "    <tr>\n",
       "      <th>92290</th>\n",
       "      <td>mdmmd微醺心機漸層腮紅橙酒</td>\n",
       "      <td>腮紅</td>\n",
       "    </tr>\n",
       "    <tr>\n",
       "      <th>92291</th>\n",
       "      <td>倫敦芮魅叛逆玩色腮紅盤微醺酒紅</td>\n",
       "      <td>腮紅</td>\n",
       "    </tr>\n",
       "    <tr>\n",
       "      <th>92292</th>\n",
       "      <td>palladio柔幻彩貝殼腮紅微醺蜜桃</td>\n",
       "      <td>腮紅</td>\n",
       "    </tr>\n",
       "    <tr>\n",
       "      <th>92293</th>\n",
       "      <td>韓國eglips粉嫩微醺美肌花瓣腮紅g色選</td>\n",
       "      <td>腮紅</td>\n",
       "    </tr>\n",
       "  </tbody>\n",
       "</table>\n",
       "<p>92294 rows × 2 columns</p>\n",
       "</div>"
      ],
      "text/plain": [
       "                        name product\n",
       "0           r視舒坦支裝工淚液點眼液ml支入    人工淚液\n",
       "1                   優麗舒點眼液ml    人工淚液\n",
       "2                    r視舒坦支裝工    人工淚液\n",
       "3                  rohto乾眼淚液    人工淚液\n",
       "4             r參天柔潤工淚液點眼液ml入    人工淚液\n",
       "...                      ...     ...\n",
       "92289    mdmmd微醺心機漸層腮紅玫瑰瑪格麗特      腮紅\n",
       "92290        mdmmd微醺心機漸層腮紅橙酒      腮紅\n",
       "92291        倫敦芮魅叛逆玩色腮紅盤微醺酒紅      腮紅\n",
       "92292    palladio柔幻彩貝殼腮紅微醺蜜桃      腮紅\n",
       "92293  韓國eglips粉嫩微醺美肌花瓣腮紅g色選      腮紅\n",
       "\n",
       "[92294 rows x 2 columns]"
      ]
     },
     "execution_count": 10,
     "metadata": {},
     "output_type": "execute_result"
    }
   ],
   "source": [
    "df"
   ]
  },
  {
   "cell_type": "code",
   "execution_count": 11,
   "metadata": {},
   "outputs": [
    {
     "name": "stderr",
     "output_type": "stream",
     "text": [
      "Building prefix dict from the default dictionary ...\n",
      "Loading model from cache C:\\Users\\dddru\\AppData\\Local\\Temp\\jieba.cache\n",
      "Loading model cost 0.882 seconds.\n",
      "Prefix dict has been built successfully.\n"
     ]
    }
   ],
   "source": [
    "cut_all_false = []\n",
    "cut_all_true = []\n",
    "HMM_false = []\n",
    "HMM_true = []\n",
    "paddle_false = []\n",
    "paddle_true = []\n",
    "all_false = []\n",
    "all_true = []\n",
    "\n",
    "for i in range(len(df)):\n",
    "    cut_all_false.append(','.join(jieba.cut(df.name[i], cut_all=False, HMM=True, use_paddle=True)))\n",
    "    cut_all_true.append(','.join(jieba.cut(df.name[i], cut_all=True, HMM=False, use_paddle=False)))\n",
    "    HMM_false.append(','.join(jieba.cut(df.name[i], cut_all=True, HMM=False, use_paddle=True)))\n",
    "    HMM_true.append(','.join(jieba.cut(df.name[i], cut_all=False, HMM=True, use_paddle=False)))\n",
    "    paddle_false.append(','.join(jieba.cut(df.name[i], cut_all=True, HMM=True, use_paddle=False)))\n",
    "    paddle_true.append(','.join(jieba.cut(df.name[i], cut_all=False, HMM=False, use_paddle=True)))\n",
    "    all_false.append(','.join(jieba.cut(df.name[i], cut_all=False, HMM=False, use_paddle=False)))\n",
    "    all_true.append(','.join(jieba.cut(df.name[i], cut_all=True, HMM=True, use_paddle=True)))"
   ]
  },
  {
   "cell_type": "code",
   "execution_count": null,
   "metadata": {},
   "outputs": [],
   "source": [
    "jb = pd.DataFrame({'cut_all_false':cut_all_false,\n",
    "                    'cut_all_true': cut_all_true,\n",
    "                    'HMM_false': HMM_false,\n",
    "                    'HMM_true': HMM_true,\n",
    "                    'paddle_false': paddle_false,\n",
    "                    'paddle_true': paddle_true,\n",
    "                    'all_false': all_false,\n",
    "                    'all_true': all_true})"
   ]
  },
  {
   "cell_type": "code",
   "execution_count": null,
   "metadata": {},
   "outputs": [],
   "source": [
    "df = pd.concat([df, jb], axis=1)\n",
    "mlb = MultiLabelBinarizer()\n",
    "mlb_result = mlb.fit_transform([str(df.loc[i, 'product']).split(';') for i in range(len(df))])\n",
    "df_final = pd.concat([df.drop(['product'], axis=1), pd.DataFrame(mlb_result, columns=list(mlb.classes_))], axis=1)\n",
    "df_final.to_csv('preprocessed_jieba_cat_train.csv', index=False)"
   ]
  },
  {
   "cell_type": "code",
   "execution_count": 5,
   "metadata": {},
   "outputs": [],
   "source": [
    "def segmentation(df):\n",
    "    result = []\n",
    "    for line in df:\n",
    "        result.append([x for x in jieba.cut(line)])\n",
    "    \n",
    "    return result"
   ]
  }
 ],
 "metadata": {
  "interpreter": {
   "hash": "ac3da779536756720bc930bbdcbe3b303a716c4190960bb8b007750e7b6b7c5d"
  },
  "kernelspec": {
   "display_name": "Python 3.7.6 64-bit",
   "language": "python",
   "name": "python3"
  },
  "language_info": {
   "codemirror_mode": {
    "name": "ipython",
    "version": 3
   },
   "file_extension": ".py",
   "mimetype": "text/x-python",
   "name": "python",
   "nbconvert_exporter": "python",
   "pygments_lexer": "ipython3",
   "version": "3.7.6"
  },
  "orig_nbformat": 4
 },
 "nbformat": 4,
 "nbformat_minor": 2
}
