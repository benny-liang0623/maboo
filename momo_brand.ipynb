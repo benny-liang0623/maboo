{
 "cells": [
  {
   "cell_type": "markdown",
   "metadata": {},
   "source": [
    "# Momo brand web crawler\n",
    "Author: Meng-Chieh, Liu  \n",
    "Date: 2022/5/28"
   ]
  },
  {
   "cell_type": "code",
   "execution_count": 1,
   "metadata": {},
   "outputs": [],
   "source": [
    "from bs4 import BeautifulSoup\n",
    "import requests as rq\n",
    "import time"
   ]
  },
  {
   "cell_type": "code",
   "execution_count": 2,
   "metadata": {},
   "outputs": [],
   "source": [
    "def get_brand_name(keyword):\n",
    "\n",
    "    headers = {'User-Agent': 'Mozilla/5.0 (Windows NT 10.0; Win64; x64) AppleWebKit/537.36 (KHTML, like Gecko) Chrome/81.0.4044.138 Safari/537.36'}\n",
    "    try:\n",
    "        url = 'https://m.momoshop.com.tw/search.momo?searchKeyword={}&couponSeq=&cpName=&searchType=1&cateLevel=-1&cateCode=-1&ent=k&_imgSH=fourCardStyle'.format(keyword)\n",
    "        response = rq.get(url, headers=headers)\n",
    "        if response.status_code == 200:\n",
    "            soup = BeautifulSoup(response.text, features=\"html.parser\")\n",
    "            table =  soup.find_all('li' ,attrs={\"class\":\"goodsItemLi\" })[0]\n",
    "            products = table.find_all(\"a\")\n",
    "            for product in products:\n",
    "                try:\n",
    "                  href = product.get(\"href\")\n",
    "                  if \"http\" not in href:\n",
    "                      in_url  = 'https://m.momoshop.com.tw'+href\n",
    "                      response = rq.get(in_url, headers=headers)\n",
    "                      if response.status_code == 200:\n",
    "                          soup = BeautifulSoup(response.text, features=\"html.parser\")\n",
    "                          brand_name = soup.find_all('a' ,attrs={\"class\":\"brandNameTxt\" })[0]\n",
    "                          return brand_name.get_text()\n",
    "                except:\n",
    "                    pass\n",
    "                time.sleep(0.1)\n",
    "        return None\n",
    "    except:\n",
    "        return None"
   ]
  },
  {
   "cell_type": "code",
   "execution_count": 3,
   "metadata": {},
   "outputs": [],
   "source": [
    "import pandas as pd\n",
    "from tqdm import tqdm"
   ]
  },
  {
   "cell_type": "code",
   "execution_count": 4,
   "metadata": {},
   "outputs": [
    {
     "name": "stderr",
     "output_type": "stream",
     "text": [
      " 32%|███▏      | 1933/5987 [2:19:32<5:54:03,  5.24s/it]"
     ]
    }
   ],
   "source": [
    "other = pd.read_csv(\"Brand/BCE/other.csv\", encoding=\"utf-8\", index_col=\"Unnamed: 0\")\n",
    "other[\"momo\"] = None\n",
    "for i in tqdm(other.index):\n",
    "    other[\"momo\"][i] = get_brand_name(other[\"name\"][i])\n",
    "    time.sleep(0.3)\n",
    "\n",
    "other.to_csv(\"Brand/BCE/other_momo.csv\", encoding=\"utf-8\")"
   ]
  }
 ],
 "metadata": {
  "interpreter": {
   "hash": "e13103eb99a4786c48aeb3e021bf8507da9bf77f11ee2af91b6d530362fcdd63"
  },
  "kernelspec": {
   "display_name": "Python 3.8.10 64-bit",
   "language": "python",
   "name": "python3"
  },
  "language_info": {
   "codemirror_mode": {
    "name": "ipython",
    "version": 3
   },
   "file_extension": ".py",
   "mimetype": "text/x-python",
   "name": "python",
   "nbconvert_exporter": "python",
   "pygments_lexer": "ipython3",
   "version": "3.8.10"
  },
  "orig_nbformat": 4
 },
 "nbformat": 4,
 "nbformat_minor": 2
}
