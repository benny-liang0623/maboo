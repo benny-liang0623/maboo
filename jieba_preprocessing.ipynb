{
 "cells": [
  {
   "cell_type": "code",
   "execution_count": 1,
   "metadata": {},
   "outputs": [],
   "source": [
    "import pandas as pd\n",
    "import jieba\n",
    "import string\n",
    "\n",
    "from sklearn.preprocessing import MultiLabelBinarizer"
   ]
  },
  {
   "cell_type": "code",
   "execution_count": 2,
   "metadata": {},
   "outputs": [
    {
     "data": {
      "text/plain": [
       "'已知問題資料: 9691, 法文, 日文'"
      ]
     },
     "execution_count": 2,
     "metadata": {},
     "output_type": "execute_result"
    }
   ],
   "source": [
    "df = pd.read_csv('category_data\\cat_train_v2.csv')\n",
    "df = df[['name', 'product']]\n",
    "'''已知問題資料: 9691, 法文, 日文'''"
   ]
  },
  {
   "cell_type": "code",
   "execution_count": 3,
   "metadata": {},
   "outputs": [],
   "source": [
    "df = df[df['name'] != '#NAME?']\n",
    "df.reset_index(inplace=True)\n",
    "df.drop(['index'], axis=1, inplace=True)\n",
    "# df.set_index(['index'], inplace=True)"
   ]
  },
  {
   "cell_type": "code",
   "execution_count": 4,
   "metadata": {},
   "outputs": [],
   "source": [
    "with open('stop.txt', 'r', encoding='utf-8') as f:\n",
    "    stop = [i.strip() for i in f.readlines()]"
   ]
  },
  {
   "cell_type": "code",
   "execution_count": 5,
   "metadata": {},
   "outputs": [],
   "source": [
    "df['name'] = df['name'].str.replace('\\W', '', regex=True)"
   ]
  },
  {
   "cell_type": "code",
   "execution_count": 6,
   "metadata": {},
   "outputs": [],
   "source": [
    "def remove_things(text):\n",
    "    text = \"\".join([i for i in text if i not in stop])               # 移除停止詞\n",
    "    text = \"\".join([i for i in text if i not in string.punctuation]) # 移除標點\n",
    "    text = \"\".join([i for i in text if i not in string.whitespace])  # 移除空格\n",
    "    return text\n",
    "\n",
    "def strQ2B(ustring):\n",
    "    \"\"\"把字串全形轉半形\"\"\"\n",
    "    ss = []\n",
    "    for s in ustring:\n",
    "        rstring = \"\"\n",
    "        for uchar in s:\n",
    "            inside_code = ord(uchar)\n",
    "            if inside_code == 12288:  # 全形空格直接轉換\n",
    "                inside_code = 32\n",
    "            elif (inside_code >= 65281 and inside_code <= 65374):  # 全形字元（除空格）根據關係轉化\n",
    "                inside_code -= 65248\n",
    "            rstring += chr(inside_code)\n",
    "        ss.append(rstring)\n",
    "    return ''.join(ss)"
   ]
  },
  {
   "cell_type": "code",
   "execution_count": 7,
   "metadata": {},
   "outputs": [],
   "source": [
    "df['name'] = df['name'].apply(lambda x: x.lower())\n",
    "df['name'] = df['name'].apply(lambda x: remove_things(x))\n",
    "df['name'] = df['name'].apply(lambda x: strQ2B(x))"
   ]
  },
  {
   "cell_type": "code",
   "execution_count": 8,
   "metadata": {},
   "outputs": [],
   "source": [
    "df = df[df['name'] != '']\n",
    "df.reset_index(inplace=True)\n",
    "df.drop(['index'], axis=1, inplace=True)"
   ]
  },
  {
   "cell_type": "code",
   "execution_count": 9,
   "metadata": {},
   "outputs": [],
   "source": [
    "mlb = MultiLabelBinarizer()\n",
    "mlb_result = mlb.fit_transform([str(df.loc[i, 'product']).split(';') for i in range(len(df))])"
   ]
  },
  {
   "cell_type": "markdown",
   "metadata": {},
   "source": [
    "# Add words to jieba dictionary"
   ]
  },
  {
   "cell_type": "code",
   "execution_count": 12,
   "metadata": {},
   "outputs": [
    {
     "data": {
      "text/html": [
       "<div>\n",
       "<style scoped>\n",
       "    .dataframe tbody tr th:only-of-type {\n",
       "        vertical-align: middle;\n",
       "    }\n",
       "\n",
       "    .dataframe tbody tr th {\n",
       "        vertical-align: top;\n",
       "    }\n",
       "\n",
       "    .dataframe thead th {\n",
       "        text-align: right;\n",
       "    }\n",
       "</style>\n",
       "<table border=\"1\" class=\"dataframe\">\n",
       "  <thead>\n",
       "    <tr style=\"text-align: right;\">\n",
       "      <th></th>\n",
       "      <th>name</th>\n",
       "      <th>occurred_at</th>\n",
       "      <th>iv_price</th>\n",
       "      <th>brand</th>\n",
       "      <th>units</th>\n",
       "      <th>unit_price</th>\n",
       "      <th>total_price</th>\n",
       "      <th>channel</th>\n",
       "    </tr>\n",
       "  </thead>\n",
       "  <tbody>\n",
       "    <tr>\n",
       "      <th>0</th>\n",
       "      <td>元山熱水瓶YS-540AP</td>\n",
       "      <td>2021-02-07</td>\n",
       "      <td>1650</td>\n",
       "      <td>元山</td>\n",
       "      <td>1.0</td>\n",
       "      <td>1490.0</td>\n",
       "      <td>1188.0</td>\n",
       "      <td>738fbc9320a9106d8905bef71a02bb99</td>\n",
       "    </tr>\n",
       "    <tr>\n",
       "      <th>1</th>\n",
       "      <td>356612@姍拉娜治痘洗面乳150G</td>\n",
       "      <td>2021-02-02</td>\n",
       "      <td>1053</td>\n",
       "      <td>姍拉娜</td>\n",
       "      <td>1.0</td>\n",
       "      <td>85.0</td>\n",
       "      <td>85.0</td>\n",
       "      <td>d10c78673e1d88714ba645fadc3de0d1</td>\n",
       "    </tr>\n",
       "    <tr>\n",
       "      <th>2</th>\n",
       "      <td>台鹽海洋鹼性離子水 600ML</td>\n",
       "      <td>2021-02-04</td>\n",
       "      <td>609</td>\n",
       "      <td>台鹽</td>\n",
       "      <td>1.0</td>\n",
       "      <td>19.0</td>\n",
       "      <td>19.0</td>\n",
       "      <td>d7769307282f69448322f9306bdf9700</td>\n",
       "    </tr>\n",
       "    <tr>\n",
       "      <th>3</th>\n",
       "      <td>妮傲絲翠果酸深層保養乳液</td>\n",
       "      <td>2021-02-14</td>\n",
       "      <td>1142</td>\n",
       "      <td>NEO-TEC妮傲絲翠</td>\n",
       "      <td>1.0</td>\n",
       "      <td>1200.0</td>\n",
       "      <td>1200.0</td>\n",
       "      <td>7a0a2154662bc9038594f04c886c87d8</td>\n",
       "    </tr>\n",
       "    <tr>\n",
       "      <th>4</th>\n",
       "      <td>舒潔棉柔舒適迪士尼抽取式衛生紙 100抽16入</td>\n",
       "      <td>2021-02-01</td>\n",
       "      <td>198</td>\n",
       "      <td>舒潔</td>\n",
       "      <td>1.0</td>\n",
       "      <td>198.0</td>\n",
       "      <td>198.0</td>\n",
       "      <td>ab7febfe145bba3da1c0fb19507f1703</td>\n",
       "    </tr>\n",
       "    <tr>\n",
       "      <th>...</th>\n",
       "      <td>...</td>\n",
       "      <td>...</td>\n",
       "      <td>...</td>\n",
       "      <td>...</td>\n",
       "      <td>...</td>\n",
       "      <td>...</td>\n",
       "      <td>...</td>\n",
       "      <td>...</td>\n",
       "    </tr>\n",
       "    <tr>\n",
       "      <th>70041</th>\n",
       "      <td>惠而浦16公斤瓦斯型滾筒蒸氣(可堆疊)乾衣機8TWGD6622HW</td>\n",
       "      <td>2021-02-07</td>\n",
       "      <td>35291</td>\n",
       "      <td>惠而浦 Whirlpool</td>\n",
       "      <td>1.0</td>\n",
       "      <td>35291.0</td>\n",
       "      <td>35291.0</td>\n",
       "      <td>4a3d67cc0cd76bf56f18b40ed671bb05</td>\n",
       "    </tr>\n",
       "    <tr>\n",
       "      <th>70042</th>\n",
       "      <td>康乃馨成人紙尿褲L</td>\n",
       "      <td>2021-02-04</td>\n",
       "      <td>1041</td>\n",
       "      <td>康乃馨</td>\n",
       "      <td>1.0</td>\n",
       "      <td>194.0</td>\n",
       "      <td>194.0</td>\n",
       "      <td>9742158c78b35d77c6351ecbfb60897b</td>\n",
       "    </tr>\n",
       "    <tr>\n",
       "      <th>70043</th>\n",
       "      <td>日本芮芙茹零矽靈洗髮露460ml頭皮保養</td>\n",
       "      <td>2021-02-04</td>\n",
       "      <td>299</td>\n",
       "      <td>芮芙茹 Reveur</td>\n",
       "      <td>1.0</td>\n",
       "      <td>299.0</td>\n",
       "      <td>299.0</td>\n",
       "      <td>0f20279a949fd072f0e3858f97d0654a</td>\n",
       "    </tr>\n",
       "    <tr>\n",
       "      <th>70044</th>\n",
       "      <td>Crest長效鎖白牙膏-輕柔鑽白99g</td>\n",
       "      <td>2021-02-13</td>\n",
       "      <td>401</td>\n",
       "      <td>crest</td>\n",
       "      <td>1.0</td>\n",
       "      <td>99.0</td>\n",
       "      <td>99.0</td>\n",
       "      <td>6757b9193b3446acb4b97a05649b3c7e</td>\n",
       "    </tr>\n",
       "    <tr>\n",
       "      <th>70045</th>\n",
       "      <td>714171@雀巢咖啡三合一義式拿鐵16G*</td>\n",
       "      <td>2021-02-04</td>\n",
       "      <td>281</td>\n",
       "      <td>雀巢</td>\n",
       "      <td>1.0</td>\n",
       "      <td>99.0</td>\n",
       "      <td>99.0</td>\n",
       "      <td>dcfa99187fa812c6cd35f835f9d1e5f1</td>\n",
       "    </tr>\n",
       "  </tbody>\n",
       "</table>\n",
       "<p>70046 rows × 8 columns</p>\n",
       "</div>"
      ],
      "text/plain": [
       "                                    name occurred_at  iv_price          brand  \\\n",
       "0                          元山熱水瓶YS-540AP  2021-02-07      1650             元山   \n",
       "1                    356612@姍拉娜治痘洗面乳150G  2021-02-02      1053            姍拉娜   \n",
       "2                        台鹽海洋鹼性離子水 600ML  2021-02-04       609             台鹽   \n",
       "3                           妮傲絲翠果酸深層保養乳液  2021-02-14      1142    NEO-TEC妮傲絲翠   \n",
       "4                舒潔棉柔舒適迪士尼抽取式衛生紙 100抽16入  2021-02-01       198             舒潔   \n",
       "...                                  ...         ...       ...            ...   \n",
       "70041  惠而浦16公斤瓦斯型滾筒蒸氣(可堆疊)乾衣機8TWGD6622HW  2021-02-07     35291  惠而浦 Whirlpool   \n",
       "70042                          康乃馨成人紙尿褲L  2021-02-04      1041            康乃馨   \n",
       "70043               日本芮芙茹零矽靈洗髮露460ml頭皮保養  2021-02-04       299     芮芙茹 Reveur   \n",
       "70044                Crest長效鎖白牙膏-輕柔鑽白99g  2021-02-13       401          crest   \n",
       "70045             714171@雀巢咖啡三合一義式拿鐵16G*  2021-02-04       281             雀巢   \n",
       "\n",
       "       units  unit_price  total_price                           channel  \n",
       "0        1.0      1490.0       1188.0  738fbc9320a9106d8905bef71a02bb99  \n",
       "1        1.0        85.0         85.0  d10c78673e1d88714ba645fadc3de0d1  \n",
       "2        1.0        19.0         19.0  d7769307282f69448322f9306bdf9700  \n",
       "3        1.0      1200.0       1200.0  7a0a2154662bc9038594f04c886c87d8  \n",
       "4        1.0       198.0        198.0  ab7febfe145bba3da1c0fb19507f1703  \n",
       "...      ...         ...          ...                               ...  \n",
       "70041    1.0     35291.0      35291.0  4a3d67cc0cd76bf56f18b40ed671bb05  \n",
       "70042    1.0       194.0        194.0  9742158c78b35d77c6351ecbfb60897b  \n",
       "70043    1.0       299.0        299.0  0f20279a949fd072f0e3858f97d0654a  \n",
       "70044    1.0        99.0         99.0  6757b9193b3446acb4b97a05649b3c7e  \n",
       "70045    1.0        99.0         99.0  dcfa99187fa812c6cd35f835f9d1e5f1  \n",
       "\n",
       "[70046 rows x 8 columns]"
      ]
     },
     "execution_count": 12,
     "metadata": {},
     "output_type": "execute_result"
    }
   ],
   "source": [
    "brand = pd.read_csv('brand_data\\\\brand_train.csv')"
   ]
  },
  {
   "cell_type": "code",
   "execution_count": 22,
   "metadata": {},
   "outputs": [
    {
     "data": {
      "text/plain": [
       "['test', 'hey']"
      ]
     },
     "execution_count": 22,
     "metadata": {},
     "output_type": "execute_result"
    }
   ],
   "source": [
    "test = 'test hey'\n",
    "test.split(' ')"
   ]
  },
  {
   "cell_type": "code",
   "execution_count": 25,
   "metadata": {},
   "outputs": [],
   "source": [
    "test_list = list(set(brand.loc[:, 'brand'].values))"
   ]
  },
  {
   "cell_type": "code",
   "execution_count": 15,
   "metadata": {},
   "outputs": [
    {
     "name": "stderr",
     "output_type": "stream",
     "text": [
      "Building prefix dict from the default dictionary ...\n",
      "Loading model from cache C:\\Users\\dddru\\AppData\\Local\\Temp\\jieba.cache\n",
      "Loading model cost 0.950 seconds.\n",
      "Prefix dict has been built successfully.\n"
     ]
    }
   ],
   "source": [
    "for i in mlb.classes_:\n",
    "    jieba.add_word(i)"
   ]
  },
  {
   "cell_type": "code",
   "execution_count": 16,
   "metadata": {},
   "outputs": [],
   "source": [
    "cut_all_false = []\n",
    "cut_all_true = []\n",
    "HMM_false = []\n",
    "HMM_true = []\n",
    "paddle_false = []\n",
    "paddle_true = []\n",
    "all_false = []\n",
    "all_true = []\n",
    "\n",
    "for i in range(len(df)):\n",
    "    cut_all_false.append(','.join(jieba.cut(df.name[i], cut_all=False, HMM=True, use_paddle=True)))\n",
    "    cut_all_true.append(','.join(jieba.cut(df.name[i], cut_all=True, HMM=False, use_paddle=False)))\n",
    "    HMM_false.append(','.join(jieba.cut(df.name[i], cut_all=True, HMM=False, use_paddle=True)))\n",
    "    HMM_true.append(','.join(jieba.cut(df.name[i], cut_all=False, HMM=True, use_paddle=False)))\n",
    "    paddle_false.append(','.join(jieba.cut(df.name[i], cut_all=True, HMM=True, use_paddle=False)))\n",
    "    paddle_true.append(','.join(jieba.cut(df.name[i], cut_all=False, HMM=False, use_paddle=True)))\n",
    "    all_false.append(','.join(jieba.cut(df.name[i], cut_all=False, HMM=False, use_paddle=False)))\n",
    "    all_true.append(','.join(jieba.cut(df.name[i], cut_all=True, HMM=True, use_paddle=True)))"
   ]
  },
  {
   "cell_type": "code",
   "execution_count": 17,
   "metadata": {},
   "outputs": [],
   "source": [
    "jb = pd.DataFrame({'cut_all_false':cut_all_false,\n",
    "                    'cut_all_true': cut_all_true,\n",
    "                    'HMM_false': HMM_false,\n",
    "                    'HMM_true': HMM_true,\n",
    "                    'paddle_false': paddle_false,\n",
    "                    'paddle_true': paddle_true,\n",
    "                    'all_false': all_false,\n",
    "                    'all_true': all_true})\n",
    "df = pd.concat([df, jb], axis=1)\n",
    "df_final = pd.concat([df.drop(['product'], axis=1), pd.DataFrame(mlb_result, columns=list(mlb.classes_))], axis=1)\n",
    "df_final.to_csv('preprocessed_jieba_cat_train.csv', index=False)"
   ]
  },
  {
   "cell_type": "code",
   "execution_count": 19,
   "metadata": {},
   "outputs": [
    {
     "data": {
      "text/plain": [
       "name               舒視ml\n",
       "product            人工淚液\n",
       "cut_all_false     舒視,ml\n",
       "cut_all_true     舒,視,ml\n",
       "HMM_false        舒,視,ml\n",
       "HMM_true          舒視,ml\n",
       "paddle_false     舒,視,ml\n",
       "paddle_true      舒,視,ml\n",
       "all_false        舒,視,ml\n",
       "all_true         舒,視,ml\n",
       "Name: 7, dtype: object"
      ]
     },
     "execution_count": 19,
     "metadata": {},
     "output_type": "execute_result"
    }
   ],
   "source": [
    "df.iloc[7]"
   ]
  },
  {
   "cell_type": "code",
   "execution_count": null,
   "metadata": {},
   "outputs": [],
   "source": []
  }
 ],
 "metadata": {
  "interpreter": {
   "hash": "ac3da779536756720bc930bbdcbe3b303a716c4190960bb8b007750e7b6b7c5d"
  },
  "kernelspec": {
   "display_name": "Python 3.7.6 64-bit",
   "language": "python",
   "name": "python3"
  },
  "language_info": {
   "codemirror_mode": {
    "name": "ipython",
    "version": 3
   },
   "file_extension": ".py",
   "mimetype": "text/x-python",
   "name": "python",
   "nbconvert_exporter": "python",
   "pygments_lexer": "ipython3",
   "version": "3.7.6"
  },
  "orig_nbformat": 4
 },
 "nbformat": 4,
 "nbformat_minor": 2
}
